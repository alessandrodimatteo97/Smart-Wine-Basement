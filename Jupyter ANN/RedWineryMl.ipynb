{
 "cells": [
  {
   "cell_type": "code",
   "execution_count": 25,
   "metadata": {},
   "outputs": [],
   "source": [
    "import pandas as pd\n",
    "import numpy as np\n",
    "import matplotlib.pyplot as plt\n",
    "from sklearn.model_selection import train_test_split\n",
    "from sklearn.preprocessing import StandardScaler\n",
    "from sklearn.neighbors import KNeighborsClassifier\n",
    "import tensorflow\n",
    "from tensorflow.keras.models import Sequential\n",
    "from tensorflow.keras.layers import Dense\n",
    "from tensorflow.keras.utils import to_categorical\n",
    "from sklearn.ensemble import RandomForestRegressor, RandomForestClassifier\n",
    "\n",
    "df = pd.read_csv(\"./Datasets/winequality-red.csv\", ';') \n",
    "columns = ['fixed acidity', 'volatile acidity', 'citric acid', 'residual sugar', 'chlorides',\n",
    "          'free sulfur dioxide', 'total sulfur dioxide', 'density', 'ph', 'sulphates', 'alcohol', 'quality']"
   ]
  },
  {
   "cell_type": "code",
   "execution_count": 26,
   "metadata": {},
   "outputs": [],
   "source": [
    "for index, row in df.iterrows():\n",
    "    if row['quality'] <= 5:\n",
    "        df.iloc[index, -1] = 0\n",
    "    elif row['quality'] >= 6 and row['quality'] <= 7:\n",
    "        df.iloc[index, -1] = 1\n",
    "    elif row['quality'] >= 8:\n",
    "        df.iloc[index, -1] = 2\n",
    "     "
   ]
  },
  {
   "cell_type": "code",
   "execution_count": 27,
   "metadata": {},
   "outputs": [
    {
     "output_type": "execute_result",
     "data": {
      "text/plain": [
       "                            0\n",
       "fixed acidity          7.4000\n",
       "volatile acidity       0.7000\n",
       "citric acid            0.0000\n",
       "residual sugar         1.9000\n",
       "chlorides              0.0760\n",
       "free sulfur dioxide   11.0000\n",
       "total sulfur dioxide  34.0000\n",
       "density                0.9978\n",
       "pH                     3.5100\n",
       "sulphates              0.5600\n",
       "alcohol                9.4000\n",
       "quality                0.0000"
      ],
      "text/html": "<div>\n<style scoped>\n    .dataframe tbody tr th:only-of-type {\n        vertical-align: middle;\n    }\n\n    .dataframe tbody tr th {\n        vertical-align: top;\n    }\n\n    .dataframe thead th {\n        text-align: right;\n    }\n</style>\n<table border=\"1\" class=\"dataframe\">\n  <thead>\n    <tr style=\"text-align: right;\">\n      <th></th>\n      <th>0</th>\n    </tr>\n  </thead>\n  <tbody>\n    <tr>\n      <th>fixed acidity</th>\n      <td>7.4000</td>\n    </tr>\n    <tr>\n      <th>volatile acidity</th>\n      <td>0.7000</td>\n    </tr>\n    <tr>\n      <th>citric acid</th>\n      <td>0.0000</td>\n    </tr>\n    <tr>\n      <th>residual sugar</th>\n      <td>1.9000</td>\n    </tr>\n    <tr>\n      <th>chlorides</th>\n      <td>0.0760</td>\n    </tr>\n    <tr>\n      <th>free sulfur dioxide</th>\n      <td>11.0000</td>\n    </tr>\n    <tr>\n      <th>total sulfur dioxide</th>\n      <td>34.0000</td>\n    </tr>\n    <tr>\n      <th>density</th>\n      <td>0.9978</td>\n    </tr>\n    <tr>\n      <th>pH</th>\n      <td>3.5100</td>\n    </tr>\n    <tr>\n      <th>sulphates</th>\n      <td>0.5600</td>\n    </tr>\n    <tr>\n      <th>alcohol</th>\n      <td>9.4000</td>\n    </tr>\n    <tr>\n      <th>quality</th>\n      <td>0.0000</td>\n    </tr>\n  </tbody>\n</table>\n</div>"
     },
     "metadata": {},
     "execution_count": 27
    }
   ],
   "source": [
    "df.head(1).transpose()"
   ]
  },
  {
   "cell_type": "code",
   "execution_count": 28,
   "metadata": {},
   "outputs": [
    {
     "output_type": "execute_result",
     "data": {
      "text/plain": [
       "                       count       mean        std      min      25%  \\\n",
       "fixed acidity         1599.0   8.319637   1.741096  4.60000   7.1000   \n",
       "volatile acidity      1599.0   0.527821   0.179060  0.12000   0.3900   \n",
       "citric acid           1599.0   0.270976   0.194801  0.00000   0.0900   \n",
       "residual sugar        1599.0   2.538806   1.409928  0.90000   1.9000   \n",
       "chlorides             1599.0   0.087467   0.047065  0.01200   0.0700   \n",
       "free sulfur dioxide   1599.0  15.874922  10.460157  1.00000   7.0000   \n",
       "total sulfur dioxide  1599.0  46.467792  32.895324  6.00000  22.0000   \n",
       "density               1599.0   0.996747   0.001887  0.99007   0.9956   \n",
       "pH                    1599.0   3.311113   0.154386  2.74000   3.2100   \n",
       "sulphates             1599.0   0.658149   0.169507  0.33000   0.5500   \n",
       "alcohol               1599.0  10.422983   1.065668  8.40000   9.5000   \n",
       "quality               1599.0   0.545966   0.520164  0.00000   0.0000   \n",
       "\n",
       "                           50%        75%        max  \n",
       "fixed acidity          7.90000   9.200000   15.90000  \n",
       "volatile acidity       0.52000   0.640000    1.58000  \n",
       "citric acid            0.26000   0.420000    1.00000  \n",
       "residual sugar         2.20000   2.600000   15.50000  \n",
       "chlorides              0.07900   0.090000    0.61100  \n",
       "free sulfur dioxide   14.00000  21.000000   72.00000  \n",
       "total sulfur dioxide  38.00000  62.000000  289.00000  \n",
       "density                0.99675   0.997835    1.00369  \n",
       "pH                     3.31000   3.400000    4.01000  \n",
       "sulphates              0.62000   0.730000    2.00000  \n",
       "alcohol               10.20000  11.100000   14.90000  \n",
       "quality                1.00000   1.000000    2.00000  "
      ],
      "text/html": "<div>\n<style scoped>\n    .dataframe tbody tr th:only-of-type {\n        vertical-align: middle;\n    }\n\n    .dataframe tbody tr th {\n        vertical-align: top;\n    }\n\n    .dataframe thead th {\n        text-align: right;\n    }\n</style>\n<table border=\"1\" class=\"dataframe\">\n  <thead>\n    <tr style=\"text-align: right;\">\n      <th></th>\n      <th>count</th>\n      <th>mean</th>\n      <th>std</th>\n      <th>min</th>\n      <th>25%</th>\n      <th>50%</th>\n      <th>75%</th>\n      <th>max</th>\n    </tr>\n  </thead>\n  <tbody>\n    <tr>\n      <th>fixed acidity</th>\n      <td>1599.0</td>\n      <td>8.319637</td>\n      <td>1.741096</td>\n      <td>4.60000</td>\n      <td>7.1000</td>\n      <td>7.90000</td>\n      <td>9.200000</td>\n      <td>15.90000</td>\n    </tr>\n    <tr>\n      <th>volatile acidity</th>\n      <td>1599.0</td>\n      <td>0.527821</td>\n      <td>0.179060</td>\n      <td>0.12000</td>\n      <td>0.3900</td>\n      <td>0.52000</td>\n      <td>0.640000</td>\n      <td>1.58000</td>\n    </tr>\n    <tr>\n      <th>citric acid</th>\n      <td>1599.0</td>\n      <td>0.270976</td>\n      <td>0.194801</td>\n      <td>0.00000</td>\n      <td>0.0900</td>\n      <td>0.26000</td>\n      <td>0.420000</td>\n      <td>1.00000</td>\n    </tr>\n    <tr>\n      <th>residual sugar</th>\n      <td>1599.0</td>\n      <td>2.538806</td>\n      <td>1.409928</td>\n      <td>0.90000</td>\n      <td>1.9000</td>\n      <td>2.20000</td>\n      <td>2.600000</td>\n      <td>15.50000</td>\n    </tr>\n    <tr>\n      <th>chlorides</th>\n      <td>1599.0</td>\n      <td>0.087467</td>\n      <td>0.047065</td>\n      <td>0.01200</td>\n      <td>0.0700</td>\n      <td>0.07900</td>\n      <td>0.090000</td>\n      <td>0.61100</td>\n    </tr>\n    <tr>\n      <th>free sulfur dioxide</th>\n      <td>1599.0</td>\n      <td>15.874922</td>\n      <td>10.460157</td>\n      <td>1.00000</td>\n      <td>7.0000</td>\n      <td>14.00000</td>\n      <td>21.000000</td>\n      <td>72.00000</td>\n    </tr>\n    <tr>\n      <th>total sulfur dioxide</th>\n      <td>1599.0</td>\n      <td>46.467792</td>\n      <td>32.895324</td>\n      <td>6.00000</td>\n      <td>22.0000</td>\n      <td>38.00000</td>\n      <td>62.000000</td>\n      <td>289.00000</td>\n    </tr>\n    <tr>\n      <th>density</th>\n      <td>1599.0</td>\n      <td>0.996747</td>\n      <td>0.001887</td>\n      <td>0.99007</td>\n      <td>0.9956</td>\n      <td>0.99675</td>\n      <td>0.997835</td>\n      <td>1.00369</td>\n    </tr>\n    <tr>\n      <th>pH</th>\n      <td>1599.0</td>\n      <td>3.311113</td>\n      <td>0.154386</td>\n      <td>2.74000</td>\n      <td>3.2100</td>\n      <td>3.31000</td>\n      <td>3.400000</td>\n      <td>4.01000</td>\n    </tr>\n    <tr>\n      <th>sulphates</th>\n      <td>1599.0</td>\n      <td>0.658149</td>\n      <td>0.169507</td>\n      <td>0.33000</td>\n      <td>0.5500</td>\n      <td>0.62000</td>\n      <td>0.730000</td>\n      <td>2.00000</td>\n    </tr>\n    <tr>\n      <th>alcohol</th>\n      <td>1599.0</td>\n      <td>10.422983</td>\n      <td>1.065668</td>\n      <td>8.40000</td>\n      <td>9.5000</td>\n      <td>10.20000</td>\n      <td>11.100000</td>\n      <td>14.90000</td>\n    </tr>\n    <tr>\n      <th>quality</th>\n      <td>1599.0</td>\n      <td>0.545966</td>\n      <td>0.520164</td>\n      <td>0.00000</td>\n      <td>0.0000</td>\n      <td>1.00000</td>\n      <td>1.000000</td>\n      <td>2.00000</td>\n    </tr>\n  </tbody>\n</table>\n</div>"
     },
     "metadata": {},
     "execution_count": 28
    }
   ],
   "source": [
    "df.describe().transpose()"
   ]
  },
  {
   "cell_type": "code",
   "execution_count": 29,
   "metadata": {},
   "outputs": [],
   "source": [
    "X = df.iloc[:, :-1].values\n",
    "y = df.iloc[:, -1].values\n"
   ]
  },
  {
   "cell_type": "code",
   "execution_count": 30,
   "metadata": {},
   "outputs": [],
   "source": [
    "X_train, X_test, y_train, y_test = train_test_split(X, y, test_size=0.20)\n",
    "scaler = StandardScaler()\n",
    "scaler.fit(X_train)\n",
    "\n",
    "X_train = scaler.transform(X_train)\n",
    "X_test = scaler.transform(X_test)"
   ]
  },
  {
   "cell_type": "code",
   "execution_count": 31,
   "metadata": {},
   "outputs": [
    {
     "output_type": "execute_result",
     "data": {
      "text/plain": [
       "KNeighborsClassifier(n_neighbors=3)"
      ]
     },
     "metadata": {},
     "execution_count": 31
    }
   ],
   "source": [
    "classifier = KNeighborsClassifier(n_neighbors=3)\n",
    "classifier.fit(X_train, y_train)\n"
   ]
  },
  {
   "cell_type": "code",
   "execution_count": 32,
   "metadata": {},
   "outputs": [
    {
     "output_type": "stream",
     "name": "stdout",
     "text": [
      "[[108  57   0]\n [ 29 122   1]\n [  2   1   0]]\n              precision    recall  f1-score   support\n\n           0       0.78      0.65      0.71       165\n           1       0.68      0.80      0.73       152\n           2       0.00      0.00      0.00         3\n\n    accuracy                           0.72       320\n   macro avg       0.48      0.49      0.48       320\nweighted avg       0.72      0.72      0.72       320\n\n"
     ]
    }
   ],
   "source": [
    "y_pred = classifier.predict(X_test)\n",
    "from sklearn.metrics import classification_report, confusion_matrix\n",
    "print(confusion_matrix(y_test, y_pred))\n",
    "print(classification_report(y_test, y_pred))"
   ]
  },
  {
   "cell_type": "code",
   "execution_count": 33,
   "metadata": {},
   "outputs": [
    {
     "output_type": "stream",
     "name": "stdout",
     "text": [
      "Epoch 1/100\n",
      "128/128 [==============================] - 0s 882us/step - loss: 0.5735 - accuracy: 0.4624\n",
      "Epoch 2/100\n",
      "128/128 [==============================] - 0s 943us/step - loss: 0.6077 - accuracy: 0.4311\n",
      "Epoch 3/100\n",
      "128/128 [==============================] - 0s 934us/step - loss: 0.5649 - accuracy: 0.4677\n",
      "Epoch 4/100\n",
      "128/128 [==============================] - 0s 1ms/step - loss: 0.5716 - accuracy: 0.4530\n",
      "Epoch 5/100\n",
      "128/128 [==============================] - 0s 1ms/step - loss: 0.5840 - accuracy: 0.4442\n",
      "Epoch 6/100\n",
      "128/128 [==============================] - 0s 1ms/step - loss: 0.5956 - accuracy: 0.4462\n",
      "Epoch 7/100\n",
      "128/128 [==============================] - 0s 879us/step - loss: 0.5930 - accuracy: 0.4520\n",
      "Epoch 8/100\n",
      "128/128 [==============================] - 0s 1ms/step - loss: 0.6165 - accuracy: 0.4405\n",
      "Epoch 9/100\n",
      "128/128 [==============================] - 0s 715us/step - loss: 0.5776 - accuracy: 0.4631\n",
      "Epoch 10/100\n",
      "128/128 [==============================] - 0s 719us/step - loss: 0.5819 - accuracy: 0.4576\n",
      "Epoch 11/100\n",
      "128/128 [==============================] - 0s 842us/step - loss: 0.5739 - accuracy: 0.4489\n",
      "Epoch 12/100\n",
      "128/128 [==============================] - 0s 766us/step - loss: 0.5987 - accuracy: 0.4389\n",
      "Epoch 13/100\n",
      "128/128 [==============================] - 0s 855us/step - loss: 0.5718 - accuracy: 0.4557\n",
      "Epoch 14/100\n",
      "128/128 [==============================] - 0s 1ms/step - loss: 0.5638 - accuracy: 0.4571\n",
      "Epoch 15/100\n",
      "128/128 [==============================] - 0s 1ms/step - loss: 0.5783 - accuracy: 0.4449\n",
      "Epoch 16/100\n",
      "128/128 [==============================] - 0s 900us/step - loss: 0.5902 - accuracy: 0.4514\n",
      "Epoch 17/100\n",
      "128/128 [==============================] - 0s 846us/step - loss: 0.5958 - accuracy: 0.4371\n",
      "Epoch 18/100\n",
      "128/128 [==============================] - 0s 710us/step - loss: 0.5779 - accuracy: 0.4503\n",
      "Epoch 19/100\n",
      "128/128 [==============================] - 0s 732us/step - loss: 0.5845 - accuracy: 0.4493\n",
      "Epoch 20/100\n",
      "128/128 [==============================] - 0s 822us/step - loss: 0.5872 - accuracy: 0.4536\n",
      "Epoch 21/100\n",
      "128/128 [==============================] - 0s 857us/step - loss: 0.5894 - accuracy: 0.4450\n",
      "Epoch 22/100\n",
      "128/128 [==============================] - 0s 734us/step - loss: 0.5742 - accuracy: 0.4563\n",
      "Epoch 23/100\n",
      "128/128 [==============================] - 0s 780us/step - loss: 0.5857 - accuracy: 0.4512\n",
      "Epoch 24/100\n",
      "128/128 [==============================] - 0s 672us/step - loss: 0.6122 - accuracy: 0.4200\n",
      "Epoch 25/100\n",
      "128/128 [==============================] - 0s 968us/step - loss: 0.5832 - accuracy: 0.4467\n",
      "Epoch 26/100\n",
      "128/128 [==============================] - 0s 856us/step - loss: 0.6021 - accuracy: 0.4433\n",
      "Epoch 27/100\n",
      "128/128 [==============================] - 0s 713us/step - loss: 0.5694 - accuracy: 0.4563\n",
      "Epoch 28/100\n",
      "128/128 [==============================] - 0s 748us/step - loss: 0.5733 - accuracy: 0.4540\n",
      "Epoch 29/100\n",
      "128/128 [==============================] - 0s 756us/step - loss: 0.6016 - accuracy: 0.4392\n",
      "Epoch 30/100\n",
      "128/128 [==============================] - 0s 735us/step - loss: 0.6083 - accuracy: 0.4382\n",
      "Epoch 31/100\n",
      "128/128 [==============================] - 0s 681us/step - loss: 0.5732 - accuracy: 0.4578\n",
      "Epoch 32/100\n",
      "128/128 [==============================] - 0s 669us/step - loss: 0.6273 - accuracy: 0.4314\n",
      "Epoch 33/100\n",
      "128/128 [==============================] - 0s 678us/step - loss: 0.5613 - accuracy: 0.4623\n",
      "Epoch 34/100\n",
      "128/128 [==============================] - 0s 648us/step - loss: 0.5724 - accuracy: 0.4647\n",
      "Epoch 35/100\n",
      "128/128 [==============================] - 0s 672us/step - loss: 0.5570 - accuracy: 0.4718\n",
      "Epoch 36/100\n",
      "128/128 [==============================] - 0s 665us/step - loss: 0.5793 - accuracy: 0.4560\n",
      "Epoch 37/100\n",
      "128/128 [==============================] - 0s 666us/step - loss: 0.5907 - accuracy: 0.4428\n",
      "Epoch 38/100\n",
      "128/128 [==============================] - 0s 661us/step - loss: 0.5662 - accuracy: 0.4578\n",
      "Epoch 39/100\n",
      "128/128 [==============================] - 0s 663us/step - loss: 0.5773 - accuracy: 0.4579\n",
      "Epoch 40/100\n",
      "128/128 [==============================] - 0s 728us/step - loss: 0.5793 - accuracy: 0.4556\n",
      "Epoch 41/100\n",
      "128/128 [==============================] - 0s 751us/step - loss: 0.5741 - accuracy: 0.4551\n",
      "Epoch 42/100\n",
      "128/128 [==============================] - 0s 661us/step - loss: 0.5935 - accuracy: 0.4478\n",
      "Epoch 43/100\n",
      "128/128 [==============================] - 0s 677us/step - loss: 0.5786 - accuracy: 0.4592\n",
      "Epoch 44/100\n",
      "128/128 [==============================] - 0s 676us/step - loss: 0.5899 - accuracy: 0.4318\n",
      "Epoch 45/100\n",
      "128/128 [==============================] - 0s 682us/step - loss: 0.5849 - accuracy: 0.4504\n",
      "Epoch 46/100\n",
      "128/128 [==============================] - 0s 729us/step - loss: 0.6083 - accuracy: 0.4278\n",
      "Epoch 47/100\n",
      "128/128 [==============================] - 0s 1ms/step - loss: 0.5806 - accuracy: 0.4563\n",
      "Epoch 48/100\n",
      "128/128 [==============================] - 0s 705us/step - loss: 0.5991 - accuracy: 0.4395\n",
      "Epoch 49/100\n",
      "128/128 [==============================] - 0s 750us/step - loss: 0.6263 - accuracy: 0.4326\n",
      "Epoch 50/100\n",
      "128/128 [==============================] - 0s 624us/step - loss: 0.5987 - accuracy: 0.4358\n",
      "Epoch 51/100\n",
      "128/128 [==============================] - 0s 678us/step - loss: 0.5879 - accuracy: 0.4444\n",
      "Epoch 52/100\n",
      "128/128 [==============================] - 0s 634us/step - loss: 0.5883 - accuracy: 0.4570\n",
      "Epoch 53/100\n",
      "128/128 [==============================] - 0s 617us/step - loss: 0.5870 - accuracy: 0.4467\n",
      "Epoch 54/100\n",
      "128/128 [==============================] - 0s 634us/step - loss: 0.5983 - accuracy: 0.4380\n",
      "Epoch 55/100\n",
      "128/128 [==============================] - 0s 620us/step - loss: 0.5769 - accuracy: 0.4646\n",
      "Epoch 56/100\n",
      "128/128 [==============================] - 0s 625us/step - loss: 0.5856 - accuracy: 0.4564\n",
      "Epoch 57/100\n",
      "128/128 [==============================] - 0s 629us/step - loss: 0.5906 - accuracy: 0.4572\n",
      "Epoch 58/100\n",
      "128/128 [==============================] - 0s 619us/step - loss: 0.5761 - accuracy: 0.4634\n",
      "Epoch 59/100\n",
      "128/128 [==============================] - 0s 633us/step - loss: 0.6062 - accuracy: 0.4306\n",
      "Epoch 60/100\n",
      "128/128 [==============================] - 0s 636us/step - loss: 0.6128 - accuracy: 0.4408\n",
      "Epoch 61/100\n",
      "128/128 [==============================] - 0s 618us/step - loss: 0.5697 - accuracy: 0.4646\n",
      "Epoch 62/100\n",
      "128/128 [==============================] - 0s 634us/step - loss: 0.5823 - accuracy: 0.4571\n",
      "Epoch 63/100\n",
      "128/128 [==============================] - 0s 628us/step - loss: 0.5832 - accuracy: 0.4554\n",
      "Epoch 64/100\n",
      "128/128 [==============================] - 0s 772us/step - loss: 0.5759 - accuracy: 0.4524\n",
      "Epoch 65/100\n",
      "128/128 [==============================] - 0s 677us/step - loss: 0.5965 - accuracy: 0.4358\n",
      "Epoch 66/100\n",
      "128/128 [==============================] - 0s 623us/step - loss: 0.5664 - accuracy: 0.4625\n",
      "Epoch 67/100\n",
      "128/128 [==============================] - 0s 634us/step - loss: 0.5998 - accuracy: 0.4446\n",
      "Epoch 68/100\n",
      "128/128 [==============================] - 0s 632us/step - loss: 0.5886 - accuracy: 0.4419\n",
      "Epoch 69/100\n",
      "128/128 [==============================] - 0s 701us/step - loss: 0.5893 - accuracy: 0.4455\n",
      "Epoch 70/100\n",
      "128/128 [==============================] - 0s 626us/step - loss: 0.6066 - accuracy: 0.4361\n",
      "Epoch 71/100\n",
      "128/128 [==============================] - 0s 626us/step - loss: 0.6117 - accuracy: 0.4382\n",
      "Epoch 72/100\n",
      "128/128 [==============================] - 0s 624us/step - loss: 0.5935 - accuracy: 0.4352\n",
      "Epoch 73/100\n",
      "128/128 [==============================] - 0s 629us/step - loss: 0.5757 - accuracy: 0.4566\n",
      "Epoch 74/100\n",
      "128/128 [==============================] - 0s 633us/step - loss: 0.5637 - accuracy: 0.4664\n",
      "Epoch 75/100\n",
      "128/128 [==============================] - 0s 635us/step - loss: 0.5977 - accuracy: 0.4395\n",
      "Epoch 76/100\n",
      "128/128 [==============================] - 0s 633us/step - loss: 0.5560 - accuracy: 0.4745\n",
      "Epoch 77/100\n",
      "128/128 [==============================] - 0s 631us/step - loss: 0.5742 - accuracy: 0.4579\n",
      "Epoch 78/100\n",
      "128/128 [==============================] - 0s 625us/step - loss: 0.5743 - accuracy: 0.4549\n",
      "Epoch 79/100\n",
      "128/128 [==============================] - 0s 636us/step - loss: 0.5871 - accuracy: 0.4399\n",
      "Epoch 80/100\n",
      "128/128 [==============================] - 0s 634us/step - loss: 0.6143 - accuracy: 0.4449\n",
      "Epoch 81/100\n",
      "128/128 [==============================] - 0s 634us/step - loss: 0.5830 - accuracy: 0.4560\n",
      "Epoch 82/100\n",
      "128/128 [==============================] - 0s 632us/step - loss: 0.5841 - accuracy: 0.4545\n",
      "Epoch 83/100\n",
      "128/128 [==============================] - 0s 630us/step - loss: 0.5875 - accuracy: 0.4547\n",
      "Epoch 84/100\n",
      "128/128 [==============================] - 0s 629us/step - loss: 0.5747 - accuracy: 0.4516\n",
      "Epoch 85/100\n",
      "128/128 [==============================] - 0s 621us/step - loss: 0.5785 - accuracy: 0.4506\n",
      "Epoch 86/100\n",
      "128/128 [==============================] - 0s 636us/step - loss: 0.5894 - accuracy: 0.4401\n",
      "Epoch 87/100\n",
      "128/128 [==============================] - 0s 628us/step - loss: 0.5727 - accuracy: 0.4648\n",
      "Epoch 88/100\n",
      "128/128 [==============================] - 0s 633us/step - loss: 0.5950 - accuracy: 0.4320\n",
      "Epoch 89/100\n",
      "128/128 [==============================] - 0s 641us/step - loss: 0.5757 - accuracy: 0.4528\n",
      "Epoch 90/100\n",
      "128/128 [==============================] - 0s 623us/step - loss: 0.5816 - accuracy: 0.4515\n",
      "Epoch 91/100\n",
      "128/128 [==============================] - 0s 634us/step - loss: 0.5892 - accuracy: 0.4495\n",
      "Epoch 92/100\n",
      "128/128 [==============================] - 0s 641us/step - loss: 0.5891 - accuracy: 0.4425\n",
      "Epoch 93/100\n",
      "128/128 [==============================] - 0s 626us/step - loss: 0.6056 - accuracy: 0.4391\n",
      "Epoch 94/100\n",
      "128/128 [==============================] - 0s 632us/step - loss: 0.5694 - accuracy: 0.4615\n",
      "Epoch 95/100\n",
      "128/128 [==============================] - 0s 632us/step - loss: 0.5743 - accuracy: 0.4558\n",
      "Epoch 96/100\n",
      "128/128 [==============================] - 0s 630us/step - loss: 0.5860 - accuracy: 0.4430\n",
      "Epoch 97/100\n",
      "128/128 [==============================] - 0s 635us/step - loss: 0.5600 - accuracy: 0.4753\n",
      "Epoch 98/100\n",
      "128/128 [==============================] - 0s 628us/step - loss: 0.6021 - accuracy: 0.4474\n",
      "Epoch 99/100\n",
      "128/128 [==============================] - 0s 647us/step - loss: 0.5762 - accuracy: 0.4586\n",
      "Epoch 100/100\n",
      "128/128 [==============================] - 0s 643us/step - loss: 0.5726 - accuracy: 0.4657\n",
      "10/10 [==============================] - 0s 709us/step - loss: 0.5125 - accuracy: 0.5156\n",
      "Test results - Loss: 0.512499988079071 - Accuracy: 0.515625%\n"
     ]
    }
   ],
   "source": [
    "### MLP Perceptron\n",
    "model = Sequential()\n",
    "model.add(Dense(12, input_shape=(11,), activation='relu'))\n",
    "model.add(Dense(12*12, activation='relu'))\n",
    "model.add(Dense(12*12, activation='relu'))\n",
    "model.add(Dense(1, activation='relu'))\n",
    "\n",
    "# Configure the model and start training\n",
    "model.compile(loss='mse', optimizer='adam', metrics=['accuracy'])\n",
    "model.fit(X_train, y_train, epochs=100, batch_size=10, verbose=1)\n",
    "\n",
    "# Test the model after training\n",
    "test_results = model.evaluate(X_test, y_test, verbose=1)\n",
    "print(f'Test results - Loss: {test_results[0]} - Accuracy: {test_results[1]}%')"
   ]
  },
  {
   "cell_type": "code",
   "execution_count": 34,
   "metadata": {},
   "outputs": [
    {
     "output_type": "stream",
     "name": "stdout",
     "text": [
      "              precision    recall  f1-score   support\n\n           0       0.82      0.67      0.74       165\n           1       0.69      0.83      0.75       152\n           2       0.33      0.33      0.33         3\n\n    accuracy                           0.74       320\n   macro avg       0.61      0.61      0.61       320\nweighted avg       0.75      0.74      0.74       320\n\n"
     ]
    }
   ],
   "source": [
    "from sklearn import tree\n",
    "clf = tree.DecisionTreeClassifier()\n",
    "clf = clf.fit(X_train, y_train)\n",
    "y_pred6 = clf.predict(X_test)\n",
    "print(classification_report(y_test, y_pred6))"
   ]
  },
  {
   "cell_type": "code",
   "execution_count": 35,
   "metadata": {},
   "outputs": [
    {
     "output_type": "stream",
     "name": "stdout",
     "text": [
      "              precision    recall  f1-score   support\n\n           0       0.87      0.76      0.81       165\n           1       0.76      0.88      0.81       152\n           2       1.00      0.33      0.50         3\n\n    accuracy                           0.81       320\n   macro avg       0.88      0.66      0.71       320\nweighted avg       0.82      0.81      0.81       320\n\n"
     ]
    }
   ],
   "source": [
    "# Best choice Random Forest\n",
    "classifier = RandomForestClassifier(random_state=0)\n",
    "classifier.fit(X_train, y_train)\n",
    "y_pred = classifier.predict(X_test)\n",
    "print(classification_report(y_test, y_pred))\n"
   ]
  },
  {
   "cell_type": "code",
   "execution_count": 36,
   "metadata": {},
   "outputs": [
    {
     "output_type": "execute_result",
     "data": {
      "text/plain": [
       "['classifier/redClassifier.joblib']"
      ]
     },
     "metadata": {},
     "execution_count": 36
    }
   ],
   "source": [
    "### Creation of a ML model\n",
    "from joblib import dump, load\n",
    "classifier = RandomForestClassifier(random_state=0)\n",
    "classifier.fit(X, y)\n",
    "\n",
    "dump(classifier, 'classifier/redClassifier.joblib') "
   ]
  },
  {
   "cell_type": "code",
   "execution_count": 37,
   "metadata": {},
   "outputs": [
    {
     "output_type": "stream",
     "name": "stdout",
     "text": [
      "b'good'\n"
     ]
    }
   ],
   "source": [
    "import requests\n",
    "\n",
    "url = \"http://localhost:5000/predict/wine/red?fixed acidity=7.7&volatile acidity=0.2&citric acid=0.1&residual sugar=2&chlorides=0.0760&free sulfur dioxide=15.0&total sulfur dioxide=34&density=5&ph=3.5100&sulphates=0.100&alcohol=17\"\n",
    "\n",
    "payload = {}\n",
    "headers= {}\n",
    "\n",
    "response = requests.request(\"POST\", url, headers=headers, data = payload)\n",
    "\n",
    "print(response.text.encode('utf8'))\n"
   ]
  },
  {
   "cell_type": "code",
   "execution_count": null,
   "metadata": {},
   "outputs": [],
   "source": []
  }
 ],
 "metadata": {
  "kernelspec": {
   "name": "python3",
   "display_name": "Python 3.6.13 64-bit ('ML': conda)",
   "metadata": {
    "interpreter": {
     "hash": "d8c9e401e2a85200b96cf372039ed4aef0521768a8aba4f570fb90fdee80e932"
    }
   }
  },
  "language_info": {
   "codemirror_mode": {
    "name": "ipython",
    "version": 3
   },
   "file_extension": ".py",
   "mimetype": "text/x-python",
   "name": "python",
   "nbconvert_exporter": "python",
   "pygments_lexer": "ipython3",
   "version": "3.6.13-final"
  }
 },
 "nbformat": 4,
 "nbformat_minor": 4
}